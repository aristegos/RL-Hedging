 {
  "cells": [
   {
    "cell_type": "code",
    "execution_count": null,
    "metadata": {},
    "outputs": [],
    "source": [
     "import numpy as np"
    ]
   },
   {
    "cell_type": "code",
    "execution_count": null,
    "metadata": {},
    "outputs": [],
    "source": [
     "class stock():\n",
     "    def __init__(self, s0, r, sigma, T, n, model = 'gbm'):\n",
     "        self.s0 = s0\n",
     "        self.r = r\n",
     "        self.T = T\n",
     "        self.n = n\n",
     "        self.dt = T/n\n",
     "        self.model = model\n",
     "        self.sigma = sigma\n",
     "    \n",
     "    def vol(self, sigma):\n",
     "        if self.model == 'gbm':\n",
     "            return np.array([sigma] * self.n)\n",
     "        elif self.model == 'heston':\n",
     "            pass # Implement Heston model volatility here\n",
     "    \n",
     "    def simulate(self):\n",
     "        innovations = np.random.normal(0, 1, self.n)\n",
     "        stock_prices = np.zeros(self.n)\n",
     "        stock_prices[0] = self.s0\n",
     "\n",
     "        for i in range(1, self.n):\n",
     "            stock_prices[i] = stock_prices[i-1] * np.exp((self.r - 0.5 * self.sigma**2) * self.dt + self.sigma * np.sqrt(self.dt) * innovations[i])\n",
     "        return stock_prices\n",
     "    \n",
     "    def option_price(self, K):\n",
     "        stock_prices = self.simulate()\n",
     "        payoff = np.maximum(stock_prices[-1] - K, 0)\n",
     "        return np.exp(-self.r * self.T) * np.mean(payoff)"
    ]
   },
   {
    "cell_type": "code",
    "execution_count": null,
    "metadata": {},
    "outputs": [],
    "source": []
   }
  ],
  "metadata": {
   "language_info": {
    "name": "python"
   }
  },
  "nbformat": 4,
  "nbformat_minor": 2
 }
