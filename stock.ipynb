{
 "cells": [
  {
   "cell_type": "code",
   "execution_count": null,
   "metadata": {},
   "outputs": [],
   "source": [
    "import numpy as np"
   ]
  },
  {
   "cell_type": "code",
   "execution_count": null,
   "metadata": {},
   "outputs": [],
   "source": [
    "class stock():\n",
    "    def __init__(self, s0, r, sigma, T, n, model = 'gbm'):\n",
    "        self.s0 = s0\n",
    "        self.r = r\n",
    "        self.T = T\n",
    "        self.n = n\n",
    "        self.dt = T/n\n",
    "        self.model = model\n",
    "        self.sigma = sigma\n",
    "    \n",
    "    def vol(self, sigma):\n",
    "        if self.model == 'gbm':\n",
    "            return np.array([sigma] * self.n)\n",
    "        elif self.model == 'heston':\n",
    "            pass # Implement Heston model volatility here\n",
    "    \n",
    "    def simulate(self):\n",
    "        innovations = np.random.normal(0, 1, self.n)\n",
    "        stock_prices = np.zeros(self.n)\n",
    "        stock_prices[0] = self.s0\n",
    "\n",
    "        for i in range(1, self.n):\n",
    "            stock_prices[i] = stock_prices[i-1] * np.exp((self.r - 0.5 * self.sigma**2) * self.dt + self.sigma * np.sqrt(self.dt) * innovations[i])\n",
    "        return stock_prices\n",
    "    \n",
    "    def option_price(self, K):\n",
    "        stock_prices = self.simulate()\n",
    "        payoff = np.maximum(stock_prices[-1] - K, 0)\n",
    "        return np.exp(-self.r * self.T) * np.mean(payoff)"
    "
    "    \n",
    " 
    "    def simulate_stock_prices(S0, r, sigma, T_steps, K_paths, dt):
    "      """
    "      Simulate stock prices using a geometric Brownian motion.
    "      Returns an array S of shape (T_steps+1, K_paths).
    "      """
    "      S = np.zeros((T_steps + 1, K_paths))
    "      S[0] = S0
    "      for t in range(1, T_steps + 1):
    "         z = np.random.standard_normal(K_paths)
    "         S[t] = S[t - 1] * np.exp((r - 0.5 * sigma**2) * dt + sigma * np.sqrt(dt) * z)
    "      return S
   ]
  },
  {
   "cell_type": "code",
   "execution_count": null,
   "metadata": {},
   "outputs": [],
   "source": []
  }
 ],
 "metadata": {
  "language_info": {
   "name": "python"
  }
 },
 "nbformat": 4,
 "nbformat_minor": 2
}
