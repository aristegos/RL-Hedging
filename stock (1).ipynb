{
  "cells": [
    {
      "cell_type": "code",
      "execution_count": null,
      "metadata": {
        "id": "6y-7MqF5_1Je"
      },
      "outputs": [],
      "source": [
        "import numpy as np"
      ]
    },
    {
      "cell_type": "code",
      "execution_count": null,
      "metadata": {
        "id": "-jsdd3do_1Jf"
      },
      "outputs": [],
      "source": [
        "class stock():\n",
        "    def __init__(self, s0, r, sigma, T, n, model = 'gbm'):\n",
        "        self.s0 = s0\n",
        "        self.r = r\n",
        "        self.T = T\n",
        "        self.n = n\n",
        "        self.dt = T/n\n",
        "        self.model = model\n",
        "        self.sigma = sigma\n",
        "\n",
        "    def vol(self, sigma):\n",
        "        if self.model == 'gbm':\n",
        "            return np.array([sigma] * self.n)\n",
        "        elif self.model == 'heston':\n",
        "            # Use the Heston volatility path\n",
        "            vol_path = self.vol(self.sigma)\n",
        "            innovations = np.random.normal(0, 1, self.n)\n",
        "            stock_prices = np.zeros(self.n)\n",
        "            stock_prices[0] = self.s0\n",
        "\n",
        "            for i in range(1, self.n):\n",
        "                stock_prices[i] = stock_prices[i-1] * np.exp(\n",
        "                    (self.r - 0.5 * vol_path[i]**2) * self.dt + vol_path[i] * np.sqrt(self.dt) * innovations[i]\n",
        "                )\n",
        "            return stock_prices # Implement Heston model volatility here\n",
        "\n",
        "\n",
        "    def heston_model_sim(S0, v0, rho, kappa, theta, sigma,T, N, M):\n",
        "    \"\"\"\n",
        "    Inputs:\n",
        "     - S0, v0: initial parameters for asset and variance\n",
        "     - rho   : correlation between asset returns and variance\n",
        "     - kappa : rate of mean reversion in variance process\n",
        "     - theta : long-term mean of variance process\n",
        "     - sigma : vol of vol / volatility of variance process\n",
        "     - T     : time of simulation\n",
        "     - N     : number of time steps\n",
        "     - M     : number of scenarios / simulations\n",
        "\n",
        "    Outputs:\n",
        "    - asset prices over time (numpy array)\n",
        "    - variance over time (numpy array)\n",
        "    \"\"\"\n",
        "    # initialise other parameters\n",
        "    dt = T/N\n",
        "    mu = np.array([0,0])\n",
        "    cov = np.array([[1,rho],\n",
        "                    [rho,1]])\n",
        "\n",
        "    # arrays for storing prices and variances\n",
        "    S = np.full(shape=(N+1,M), fill_value=S0)\n",
        "    v = np.full(shape=(N+1,M), fill_value=v0)\n",
        "\n",
        "    # sampling correlated brownian motions under risk-neutral measure\n",
        "    Z = np.random.multivariate_normal(mu, cov, (N,M))\n",
        "\n",
        "    for i in range(1,N+1):\n",
        "        S[i] = S[i-1] * np.exp( (r - 0.5*v[i-1])*dt + np.sqrt(v[i-1] * dt) * Z[i-1,:,0] )\n",
        "        v[i] = np.maximum(v[i-1] + kappa*(theta-v[i-1])*dt + sigma*np.sqrt(v[i-1]*dt)*Z[i-1,:,1],0)\n",
        "\n",
        "    return S, v\n",
        "\n",
        "    def simulate(self):\n",
        "        innovations = np.random.normal(0, 1, self.n)\n",
        "        stock_prices = np.zeros(self.n)\n",
        "        stock_prices[0] = self.s0\n",
        "\n",
        "        for i in range(1, self.n):\n",
        "            stock_prices[i] = stock_prices[i-1] * np.exp((self.r - 0.5 * self.sigma**2) * self.dt + self.sigma * np.sqrt(self.dt) * innovations[i])\n",
        "        return stock_prices\n",
        "\n",
        "    def option_price(self, K):\n",
        "        stock_prices = self.simulate()\n",
        "        payoff = np.maximum(stock_prices[-1] - K, 0)\n",
        "        return np.exp(-self.r * self.T) * np.mean(payoff)\n"
      ]
    },
    {
      "cell_type": "code",
      "execution_count": 3,
      "metadata": {
        "id": "N51TCa4m_1Jf"
      },
      "outputs": [],
      "source": [
        "class simulation():\n",
        "    def simulate_stock_prices(S0, r, sigma, T_steps, K_paths, dt):\n",
        "      \"\"\"\n",
        "      Simulate stock prices using a geometric Brownian motion.\n",
        "      Returns an array S of shape (T_steps+1, K_paths).\n",
        "      \"\"\"\n",
        "      S = np.zeros((T_steps + 1, K_paths))\n",
        "      S[0] = S0\n",
        "      for t in range(1, T_steps + 1):\n",
        "          z = np.random.standard_normal(K_paths)\n",
        "          S[t] = S[t - 1] * np.exp((r - 0.5 * sigma**2) * dt + sigma * np.sqrt(dt) * z)\n",
        "      return S\n",
        "\n",
        ""
      ]
    },
    {
      "cell_type": "code",
      "source": [],
      "metadata": {
        "id": "jtbPF1rEB7NS"
      },
      "execution_count": null,
      "outputs": []
    }
  ],
  "metadata": {
    "language_info": {
      "name": "python"
    },
    "colab": {
      "provenance": []
    },
    "kernelspec": {
      "name": "python3",
      "display_name": "Python 3"
    }
  },
  "nbformat": 4,
  "nbformat_minor": 0
}